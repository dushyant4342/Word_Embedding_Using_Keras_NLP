{
  "nbformat": 4,
  "nbformat_minor": 0,
  "metadata": {
    "colab": {
      "name": "Word Embedding using keras .ipynb",
      "provenance": [],
      "authorship_tag": "ABX9TyOlv4t0IKnWS6gb0RBeo60/",
      "include_colab_link": true
    },
    "kernelspec": {
      "name": "python3",
      "display_name": "Python 3"
    }
  },
  "cells": [
    {
      "cell_type": "markdown",
      "metadata": {
        "id": "view-in-github",
        "colab_type": "text"
      },
      "source": [
        "<a href=\"https://colab.research.google.com/github/dushyant4342/Word_Embedding_Using_Keras_NLP/blob/master/Word_Embedding_using_keras_.ipynb\" target=\"_parent\"><img src=\"https://colab.research.google.com/assets/colab-badge.svg\" alt=\"Open In Colab\"/></a>"
      ]
    },
    {
      "cell_type": "code",
      "metadata": {
        "id": "KLQs88BcieUv",
        "colab_type": "code",
        "colab": {}
      },
      "source": [
        "import tensorflow as tf"
      ],
      "execution_count": 1,
      "outputs": []
    },
    {
      "cell_type": "code",
      "metadata": {
        "id": "kVmqny1im3g9",
        "colab_type": "code",
        "colab": {
          "base_uri": "https://localhost:8080/",
          "height": 34
        },
        "outputId": "b90db26f-93db-45c2-9b16-8a820f72aa34"
      },
      "source": [
        "tf.__version__"
      ],
      "execution_count": 2,
      "outputs": [
        {
          "output_type": "execute_result",
          "data": {
            "text/plain": [
              "'2.2.0'"
            ]
          },
          "metadata": {
            "tags": []
          },
          "execution_count": 2
        }
      ]
    },
    {
      "cell_type": "code",
      "metadata": {
        "id": "RLT3dFD_m4tP",
        "colab_type": "code",
        "colab": {}
      },
      "source": [
        "from tensorflow.keras.preprocessing.text import one_hot"
      ],
      "execution_count": 3,
      "outputs": []
    },
    {
      "cell_type": "code",
      "metadata": {
        "id": "CGzGH_ZcnD3C",
        "colab_type": "code",
        "colab": {}
      },
      "source": [
        "sent=['Hi this is Dushyant', 'Photography is my passion', 'I want to become a Data Scientist', \n",
        "      'I want to travel the world', 'Dreams are not which you see while sleeping',\n",
        "      'Dreams are those which did not let you sleep']"
      ],
      "execution_count": 7,
      "outputs": []
    },
    {
      "cell_type": "code",
      "metadata": {
        "id": "eq_jPx4ant2C",
        "colab_type": "code",
        "colab": {
          "base_uri": "https://localhost:8080/",
          "height": 123
        },
        "outputId": "10efa3b3-f7ed-4f10-cb1d-2e87fe78f382"
      },
      "source": [
        "sent"
      ],
      "execution_count": 8,
      "outputs": [
        {
          "output_type": "execute_result",
          "data": {
            "text/plain": [
              "['Hi this is Dushyant',\n",
              " 'Photography is my passion',\n",
              " 'I want to become a Data Scientist',\n",
              " 'I want to travel the world',\n",
              " 'Dreams are not which you see while sleeping',\n",
              " 'Dreams are those which did not let you sleep']"
            ]
          },
          "metadata": {
            "tags": []
          },
          "execution_count": 8
        }
      ]
    },
    {
      "cell_type": "code",
      "metadata": {
        "id": "Cscs5Sfonuhz",
        "colab_type": "code",
        "colab": {}
      },
      "source": [
        "voc_size=5000"
      ],
      "execution_count": 10,
      "outputs": []
    },
    {
      "cell_type": "code",
      "metadata": {
        "id": "ZxDLWUK_oBZo",
        "colab_type": "code",
        "colab": {}
      },
      "source": [
        "onehot_rep=[one_hot(words,voc_size)for words in sent]"
      ],
      "execution_count": 11,
      "outputs": []
    },
    {
      "cell_type": "code",
      "metadata": {
        "id": "ErY07Q-GoXbz",
        "colab_type": "code",
        "colab": {
          "base_uri": "https://localhost:8080/",
          "height": 123
        },
        "outputId": "428c69cf-aa1f-4ad1-c31f-14a0e2153f3b"
      },
      "source": [
        "onehot_rep"
      ],
      "execution_count": 12,
      "outputs": [
        {
          "output_type": "execute_result",
          "data": {
            "text/plain": [
              "[[2597, 820, 226, 4507],\n",
              " [1430, 226, 3326, 2485],\n",
              " [1404, 2526, 4905, 574, 3275, 758, 4878],\n",
              " [1404, 2526, 4905, 938, 3092, 3964],\n",
              " [1251, 1358, 743, 1669, 609, 3989, 1376, 1882],\n",
              " [1251, 1358, 4668, 1669, 795, 743, 2357, 609, 73]]"
            ]
          },
          "metadata": {
            "tags": []
          },
          "execution_count": 12
        }
      ]
    },
    {
      "cell_type": "code",
      "metadata": {
        "id": "mwmYZ_6foVXJ",
        "colab_type": "code",
        "colab": {}
      },
      "source": [
        "import numpy as np\n",
        "from tensorflow.keras.models import Sequential\n",
        "from tensorflow.keras.layers import Embedding\n",
        "from tensorflow.keras.preprocessing.sequence import pad_sequences"
      ],
      "execution_count": 13,
      "outputs": []
    },
    {
      "cell_type": "code",
      "metadata": {
        "id": "01A5ArNfo9RR",
        "colab_type": "code",
        "colab": {}
      },
      "source": [
        "sent_length=12"
      ],
      "execution_count": 19,
      "outputs": []
    },
    {
      "cell_type": "code",
      "metadata": {
        "id": "5mD7ZzWesjln",
        "colab_type": "code",
        "colab": {}
      },
      "source": [
        "embedded_docs=pad_sequences(onehot_rep, padding='post', maxlen=sent_length)"
      ],
      "execution_count": 20,
      "outputs": []
    },
    {
      "cell_type": "code",
      "metadata": {
        "id": "lFk1z-8qs4v7",
        "colab_type": "code",
        "colab": {
          "base_uri": "https://localhost:8080/",
          "height": 230
        },
        "outputId": "8ecb998f-3644-4667-b380-174b4b13f722"
      },
      "source": [
        "embedded_docs"
      ],
      "execution_count": 21,
      "outputs": [
        {
          "output_type": "execute_result",
          "data": {
            "text/plain": [
              "array([[2597,  820,  226, 4507,    0,    0,    0,    0,    0,    0,    0,\n",
              "           0],\n",
              "       [1430,  226, 3326, 2485,    0,    0,    0,    0,    0,    0,    0,\n",
              "           0],\n",
              "       [1404, 2526, 4905,  574, 3275,  758, 4878,    0,    0,    0,    0,\n",
              "           0],\n",
              "       [1404, 2526, 4905,  938, 3092, 3964,    0,    0,    0,    0,    0,\n",
              "           0],\n",
              "       [1251, 1358,  743, 1669,  609, 3989, 1376, 1882,    0,    0,    0,\n",
              "           0],\n",
              "       [1251, 1358, 4668, 1669,  795,  743, 2357,  609,   73,    0,    0,\n",
              "           0]], dtype=int32)"
            ]
          },
          "metadata": {
            "tags": []
          },
          "execution_count": 21
        }
      ]
    },
    {
      "cell_type": "code",
      "metadata": {
        "id": "TEu3nmZZtA9u",
        "colab_type": "code",
        "colab": {}
      },
      "source": [
        "model=Sequential()\n",
        "model.add(Embedding(voc_size, 10, input_length=sent_length )) #dimension=10\n",
        "model.compile(optimizer='Adam', loss='mse')"
      ],
      "execution_count": 34,
      "outputs": []
    },
    {
      "cell_type": "code",
      "metadata": {
        "id": "7a4nRBQBtb82",
        "colab_type": "code",
        "colab": {
          "base_uri": "https://localhost:8080/",
          "height": 194
        },
        "outputId": "bab8fdb6-5f04-4d69-ae86-2311ff6b4f7e"
      },
      "source": [
        "model.summary()"
      ],
      "execution_count": 35,
      "outputs": [
        {
          "output_type": "stream",
          "text": [
            "Model: \"sequential_3\"\n",
            "_________________________________________________________________\n",
            "Layer (type)                 Output Shape              Param #   \n",
            "=================================================================\n",
            "embedding_3 (Embedding)      (None, 12, 10)            50000     \n",
            "=================================================================\n",
            "Total params: 50,000\n",
            "Trainable params: 50,000\n",
            "Non-trainable params: 0\n",
            "_________________________________________________________________\n"
          ],
          "name": "stdout"
        }
      ]
    },
    {
      "cell_type": "code",
      "metadata": {
        "id": "AAP5Hrogtu_Q",
        "colab_type": "code",
        "colab": {}
      },
      "source": [
        "  abc=model.predict(embedded_docs)"
      ],
      "execution_count": 36,
      "outputs": []
    },
    {
      "cell_type": "code",
      "metadata": {
        "id": "O346KRVwt7ho",
        "colab_type": "code",
        "colab": {
          "base_uri": "https://localhost:8080/",
          "height": 461
        },
        "outputId": "b765de94-5986-4abd-898a-dbfbbbdf2bdb"
      },
      "source": [
        "abc[0]"
      ],
      "execution_count": 37,
      "outputs": [
        {
          "output_type": "execute_result",
          "data": {
            "text/plain": [
              "array([[ 0.01841277, -0.02614653,  0.04717783,  0.01150719,  0.02807038,\n",
              "         0.01491654,  0.03816923,  0.03236779,  0.027169  , -0.04158992],\n",
              "       [-0.02112173, -0.02032321, -0.02691931, -0.02272303, -0.04472106,\n",
              "         0.02392391, -0.03962721, -0.0429119 ,  0.02851996, -0.03830808],\n",
              "       [ 0.04660304, -0.00110862, -0.00861352, -0.02630298, -0.00554482,\n",
              "        -0.03476459,  0.00835498, -0.01912351,  0.02640194, -0.00490425],\n",
              "       [-0.03260922, -0.03980327,  0.02482572, -0.01844723,  0.01810446,\n",
              "        -0.04590807,  0.0201636 ,  0.02008892, -0.00361146, -0.03090346],\n",
              "       [ 0.04720299,  0.01750824, -0.00990752,  0.03134489, -0.01071603,\n",
              "        -0.04391451, -0.04202034,  0.04857025, -0.02357977,  0.02436614],\n",
              "       [ 0.04720299,  0.01750824, -0.00990752,  0.03134489, -0.01071603,\n",
              "        -0.04391451, -0.04202034,  0.04857025, -0.02357977,  0.02436614],\n",
              "       [ 0.04720299,  0.01750824, -0.00990752,  0.03134489, -0.01071603,\n",
              "        -0.04391451, -0.04202034,  0.04857025, -0.02357977,  0.02436614],\n",
              "       [ 0.04720299,  0.01750824, -0.00990752,  0.03134489, -0.01071603,\n",
              "        -0.04391451, -0.04202034,  0.04857025, -0.02357977,  0.02436614],\n",
              "       [ 0.04720299,  0.01750824, -0.00990752,  0.03134489, -0.01071603,\n",
              "        -0.04391451, -0.04202034,  0.04857025, -0.02357977,  0.02436614],\n",
              "       [ 0.04720299,  0.01750824, -0.00990752,  0.03134489, -0.01071603,\n",
              "        -0.04391451, -0.04202034,  0.04857025, -0.02357977,  0.02436614],\n",
              "       [ 0.04720299,  0.01750824, -0.00990752,  0.03134489, -0.01071603,\n",
              "        -0.04391451, -0.04202034,  0.04857025, -0.02357977,  0.02436614],\n",
              "       [ 0.04720299,  0.01750824, -0.00990752,  0.03134489, -0.01071603,\n",
              "        -0.04391451, -0.04202034,  0.04857025, -0.02357977,  0.02436614]],\n",
              "      dtype=float32)"
            ]
          },
          "metadata": {
            "tags": []
          },
          "execution_count": 37
        }
      ]
    },
    {
      "cell_type": "code",
      "metadata": {
        "id": "W4TbstfyuCzy",
        "colab_type": "code",
        "colab": {}
      },
      "source": [
        ""
      ],
      "execution_count": null,
      "outputs": []
    }
  ]
}